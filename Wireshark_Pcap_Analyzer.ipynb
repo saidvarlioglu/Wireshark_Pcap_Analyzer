{
 "cells": [
  {
   "cell_type": "markdown",
   "metadata": {},
   "source": [
    "# ANALYZING PCAP DATA derived from WIRESHARK"
   ]
  },
  {
   "cell_type": "markdown",
   "metadata": {},
   "source": [
    "Data downloaded from http://malware-traffic-analysis.net/2020/02/21/page2.html"
   ]
  },
  {
   "cell_type": "markdown",
   "metadata": {},
   "source": [
    "# Install Libraries"
   ]
  },
  {
   "cell_type": "code",
   "execution_count": 1,
   "metadata": {},
   "outputs": [],
   "source": [
    "#pip install scapy"
   ]
  },
  {
   "cell_type": "code",
   "execution_count": 2,
   "metadata": {},
   "outputs": [
    {
     "data": {
      "text/html": [
       "        <script type=\"text/javascript\">\n",
       "        window.PlotlyConfig = {MathJaxConfig: 'local'};\n",
       "        if (window.MathJax) {MathJax.Hub.Config({SVG: {font: \"STIX-Web\"}});}\n",
       "        if (typeof require !== 'undefined') {\n",
       "        require.undef(\"plotly\");\n",
       "        requirejs.config({\n",
       "            paths: {\n",
       "                'plotly': ['https://cdn.plot.ly/plotly-latest.min']\n",
       "            }\n",
       "        });\n",
       "        require(['plotly'], function(Plotly) {\n",
       "            window._Plotly = Plotly;\n",
       "        });\n",
       "        }\n",
       "        </script>\n",
       "        "
      ]
     },
     "metadata": {},
     "output_type": "display_data"
    },
    {
     "data": {
      "text/html": [
       "        <script type=\"text/javascript\">\n",
       "        window.PlotlyConfig = {MathJaxConfig: 'local'};\n",
       "        if (window.MathJax) {MathJax.Hub.Config({SVG: {font: \"STIX-Web\"}});}\n",
       "        if (typeof require !== 'undefined') {\n",
       "        require.undef(\"plotly\");\n",
       "        requirejs.config({\n",
       "            paths: {\n",
       "                'plotly': ['https://cdn.plot.ly/plotly-latest.min']\n",
       "            }\n",
       "        });\n",
       "        require(['plotly'], function(Plotly) {\n",
       "            window._Plotly = Plotly;\n",
       "        });\n",
       "        }\n",
       "        </script>\n",
       "        "
      ]
     },
     "metadata": {},
     "output_type": "display_data"
    }
   ],
   "source": [
    "from scapy.all import rdpcap\n",
    "import socket\n",
    "import numpy as np\n",
    "import pandas as pd\n",
    "import seaborn as sns\n",
    "import matplotlib.pyplot as plt\n",
    "%matplotlib inline\n",
    "import nltk\n",
    "from plotly import __version__\n",
    "from plotly.offline import download_plotlyjs, init_notebook_mode, plot, iplot\n",
    "import cufflinks as cf\n",
    "init_notebook_mode(connected=True)\n",
    "cf.go_offline()"
   ]
  },
  {
   "cell_type": "markdown",
   "metadata": {},
   "source": [
    "# Load Data"
   ]
  },
  {
   "cell_type": "code",
   "execution_count": 3,
   "metadata": {},
   "outputs": [],
   "source": [
    "pkts_list = rdpcap('traffic-analysis.pcap')"
   ]
  },
  {
   "cell_type": "code",
   "execution_count": 4,
   "metadata": {},
   "outputs": [
    {
     "name": "stdout",
     "output_type": "stream",
     "text": [
      "There are 9698 rows including packets\n"
     ]
    }
   ],
   "source": [
    "len(pkts_list)\n",
    "print('There are', len(pkts_list), 'rows including packets')"
   ]
  },
  {
   "cell_type": "markdown",
   "metadata": {},
   "source": [
    "# Sample Packet Information"
   ]
  },
  {
   "cell_type": "code",
   "execution_count": 5,
   "metadata": {},
   "outputs": [
    {
     "name": "stdout",
     "output_type": "stream",
     "text": [
      "###[ Ethernet ]### \n",
      "  dst       = a4:1f:72:c2:09:6a\n",
      "  src       = 00:11:75:8c:fd:47\n",
      "  type      = IPv4\n",
      "###[ IP ]### \n",
      "     version   = 4\n",
      "     ihl       = 5\n",
      "     tos       = 0x0\n",
      "     len       = 254\n",
      "     id        = 17120\n",
      "     flags     = \n",
      "     frag      = 0\n",
      "     ttl       = 128\n",
      "     proto     = udp\n",
      "     chksum    = 0x8e36\n",
      "     src       = 172.17.8.174\n",
      "     dst       = 172.17.8.8\n",
      "     \\options   \\\n",
      "###[ UDP ]### \n",
      "        sport     = 62496\n",
      "        dport     = 389\n",
      "        len       = 234\n",
      "        chksum    = 0xd425\n",
      "###[ Raw ]### \n",
      "           load      = '0\\x84\\x00\\x00\\x00\\xdc\\x02\\x01\\x01c\\x84\\x00\\x00\\x00\\xd3\\x04\\x00\\n\\x01\\x00\\n\\x01\\x00\\x02\\x01\\x00\\x02\\x01\\x00\\x01\\x01\\x00\\xa0\\x84\\x00\\x00\\x00\\xac\\xa3\\x84\\x00\\x00\\x00\\x1d\\x04\\tDnsDomain\\x04\\x10one-hot-mess.com\\xa3\\x84\\x00\\x00\\x00\\x17\\x04\\x04Host\\x04\\x0fDESKTOP-TZMKHKC\\xa3\\x84\\x00\\x00\\x00\\x1e\\x04\\nDomainGuid\\x04\\x10\\xc8\\x7fl\\x92@r\\x9eM\\x9aU[\\xc0\\xc7\\xf4)\\x80\\xa3\\x84\\x00\\x00\\x00\\r\\x04\\x05NtVer\\x04\\x04\\x16\\x00\\x00 \\xa3\\x84\\x00\\x00\\x00/\\x04\\x0bDnsHostName\\x04 DESKTOP-TZMKHKC.one-hot-mess.com0\\x84\\x00\\x00\\x00\\n\\x04\\x08Netlogon'\n",
      "\n"
     ]
    }
   ],
   "source": [
    "#Sample row info:\n",
    "\n",
    "pkts_list[12].show()"
   ]
  },
  {
   "cell_type": "markdown",
   "metadata": {},
   "source": [
    "# Pcap IP Information"
   ]
  },
  {
   "cell_type": "code",
   "execution_count": 6,
   "metadata": {},
   "outputs": [
    {
     "data": {
      "text/plain": [
       "'172.17.8.174'"
      ]
     },
     "execution_count": 6,
     "metadata": {},
     "output_type": "execute_result"
    }
   ],
   "source": [
    "pkts_list[12]['IP'].src"
   ]
  },
  {
   "cell_type": "code",
   "execution_count": 7,
   "metadata": {},
   "outputs": [
    {
     "data": {
      "text/plain": [
       "'172.17.8.8'"
      ]
     },
     "execution_count": 7,
     "metadata": {},
     "output_type": "execute_result"
    }
   ],
   "source": [
    "pkts_list[12]['IP'].dst"
   ]
  },
  {
   "cell_type": "code",
   "execution_count": 8,
   "metadata": {},
   "outputs": [
    {
     "data": {
      "text/plain": [
       "62496"
      ]
     },
     "execution_count": 8,
     "metadata": {},
     "output_type": "execute_result"
    }
   ],
   "source": [
    "pkts_list[12]['IP'].sport"
   ]
  },
  {
   "cell_type": "markdown",
   "metadata": {},
   "source": [
    "# Create Data Frame for IP Info"
   ]
  },
  {
   "cell_type": "code",
   "execution_count": 10,
   "metadata": {},
   "outputs": [],
   "source": [
    "Source_IPs = []\n",
    "Dest_IPs = []\n",
    "\n",
    "for i in range (0,len(pkts_list)):\n",
    "    Source_IPs.append(pkts_list[i]['IP'].src)\n",
    "    Dest_IPs.append(pkts_list[i]['IP'].dst)"
   ]
  },
  {
   "cell_type": "code",
   "execution_count": 11,
   "metadata": {},
   "outputs": [
    {
     "data": {
      "text/html": [
       "<div>\n",
       "<style scoped>\n",
       "    .dataframe tbody tr th:only-of-type {\n",
       "        vertical-align: middle;\n",
       "    }\n",
       "\n",
       "    .dataframe tbody tr th {\n",
       "        vertical-align: top;\n",
       "    }\n",
       "\n",
       "    .dataframe thead th {\n",
       "        text-align: right;\n",
       "    }\n",
       "</style>\n",
       "<table border=\"1\" class=\"dataframe\">\n",
       "  <thead>\n",
       "    <tr style=\"text-align: right;\">\n",
       "      <th></th>\n",
       "      <th>Source_IPs</th>\n",
       "      <th>Dest_IPs</th>\n",
       "    </tr>\n",
       "  </thead>\n",
       "  <tbody>\n",
       "    <tr>\n",
       "      <th>0</th>\n",
       "      <td>0.0.0.0</td>\n",
       "      <td>255.255.255.255</td>\n",
       "    </tr>\n",
       "    <tr>\n",
       "      <th>1</th>\n",
       "      <td>172.17.8.8</td>\n",
       "      <td>172.17.8.174</td>\n",
       "    </tr>\n",
       "    <tr>\n",
       "      <th>2</th>\n",
       "      <td>172.17.8.174</td>\n",
       "      <td>224.0.0.22</td>\n",
       "    </tr>\n",
       "    <tr>\n",
       "      <th>3</th>\n",
       "      <td>172.17.8.174</td>\n",
       "      <td>224.0.0.22</td>\n",
       "    </tr>\n",
       "    <tr>\n",
       "      <th>4</th>\n",
       "      <td>172.17.8.174</td>\n",
       "      <td>224.0.0.251</td>\n",
       "    </tr>\n",
       "  </tbody>\n",
       "</table>\n",
       "</div>"
      ],
      "text/plain": [
       "     Source_IPs         Dest_IPs\n",
       "0       0.0.0.0  255.255.255.255\n",
       "1    172.17.8.8     172.17.8.174\n",
       "2  172.17.8.174       224.0.0.22\n",
       "3  172.17.8.174       224.0.0.22\n",
       "4  172.17.8.174      224.0.0.251"
      ]
     },
     "execution_count": 11,
     "metadata": {},
     "output_type": "execute_result"
    }
   ],
   "source": [
    "dict = {'Source_IPs': Source_IPs, 'Dest_IPs': Dest_IPs}  \n",
    "Pcap_Data = pd.DataFrame(dict)\n",
    "Pcap_Data.head()\n",
    "#or\n",
    "#Pcap_Data.sort_values(\"Source_IPs\", ascending=False)"
   ]
  },
  {
   "cell_type": "code",
   "execution_count": 17,
   "metadata": {},
   "outputs": [],
   "source": [
    "#you can drop local IPs\n",
    "Pcap_Data.drop(Pcap_Data[Pcap_Data['Dest_IPs'] == '10.0.0.10'].index , inplace=True)\n",
    "Pcap_Data.drop(Pcap_Data[Pcap_Data['Dest_IPs'] == '10.0.0.167'].index , inplace=True)\n",
    "Pcap_Data.drop(Pcap_Data[Pcap_Data['Dest_IPs'] == '10.0.0.202'].index , inplace=True)\n",
    "Pcap_Data.drop(Pcap_Data[Pcap_Data['Dest_IPs'] == '255.255.255.255'].index , inplace=True)"
   ]
  },
  {
   "cell_type": "markdown",
   "metadata": {},
   "source": [
    "# Count Unique Destination IPs"
   ]
  },
  {
   "cell_type": "code",
   "execution_count": 18,
   "metadata": {},
   "outputs": [],
   "source": [
    "from collections import Counter\n",
    "#Count Unique IPs by generating a dict file\n",
    "Unique_Dest_IPs = Counter(Pcap_Data['Dest_IPs'])"
   ]
  },
  {
   "cell_type": "markdown",
   "metadata": {},
   "source": [
    "Unique_Dest_IPs is a Dictionary File"
   ]
  },
  {
   "cell_type": "markdown",
   "metadata": {},
   "source": [
    "# Create Data Frame to see Unique IP Frequencies"
   ]
  },
  {
   "cell_type": "code",
   "execution_count": 19,
   "metadata": {},
   "outputs": [],
   "source": [
    "IP_Freq_df = pd.DataFrame(list(Unique_Dest_IPs.items()), columns=['IPs', 'Frequency']).sort_values(\"Frequency\", ascending=False)"
   ]
  },
  {
   "cell_type": "code",
   "execution_count": 20,
   "metadata": {},
   "outputs": [
    {
     "data": {
      "text/html": [
       "<div>\n",
       "<style scoped>\n",
       "    .dataframe tbody tr th:only-of-type {\n",
       "        vertical-align: middle;\n",
       "    }\n",
       "\n",
       "    .dataframe tbody tr th {\n",
       "        vertical-align: top;\n",
       "    }\n",
       "\n",
       "    .dataframe thead th {\n",
       "        text-align: right;\n",
       "    }\n",
       "</style>\n",
       "<table border=\"1\" class=\"dataframe\">\n",
       "  <thead>\n",
       "    <tr style=\"text-align: right;\">\n",
       "      <th></th>\n",
       "      <th>IPs</th>\n",
       "      <th>Frequency</th>\n",
       "    </tr>\n",
       "  </thead>\n",
       "  <tbody>\n",
       "    <tr>\n",
       "      <th>0</th>\n",
       "      <td>172.17.8.174</td>\n",
       "      <td>6527</td>\n",
       "    </tr>\n",
       "    <tr>\n",
       "      <th>4</th>\n",
       "      <td>172.17.8.8</td>\n",
       "      <td>725</td>\n",
       "    </tr>\n",
       "    <tr>\n",
       "      <th>34</th>\n",
       "      <td>205.185.216.42</td>\n",
       "      <td>671</td>\n",
       "    </tr>\n",
       "    <tr>\n",
       "      <th>22</th>\n",
       "      <td>23.54.20.119</td>\n",
       "      <td>387</td>\n",
       "    </tr>\n",
       "    <tr>\n",
       "      <th>35</th>\n",
       "      <td>205.185.216.10</td>\n",
       "      <td>278</td>\n",
       "    </tr>\n",
       "  </tbody>\n",
       "</table>\n",
       "</div>"
      ],
      "text/plain": [
       "               IPs  Frequency\n",
       "0     172.17.8.174       6527\n",
       "4       172.17.8.8        725\n",
       "34  205.185.216.42        671\n",
       "22    23.54.20.119        387\n",
       "35  205.185.216.10        278"
      ]
     },
     "execution_count": 20,
     "metadata": {},
     "output_type": "execute_result"
    }
   ],
   "source": [
    "IP_Freq_df.head()"
   ]
  },
  {
   "cell_type": "code",
   "execution_count": 21,
   "metadata": {},
   "outputs": [
    {
     "name": "stdout",
     "output_type": "stream",
     "text": [
      "There are 38 Unique IP Addresses\n"
     ]
    }
   ],
   "source": [
    "print(\"There are\", len(IP_Freq_df['IPs']), 'Unique IP Addresses') "
   ]
  },
  {
   "cell_type": "markdown",
   "metadata": {},
   "source": [
    "# Try to Get Host info by IP"
   ]
  },
  {
   "cell_type": "code",
   "execution_count": 24,
   "metadata": {},
   "outputs": [
    {
     "data": {
      "text/plain": [
       "('a23-54-20-119.deploy.static.akamaitechnologies.com', [], ['23.54.20.119'])"
      ]
     },
     "execution_count": 24,
     "metadata": {},
     "output_type": "execute_result"
    }
   ],
   "source": [
    "socket.gethostbyaddr(IP_Freq_df['IPs'][22])"
   ]
  },
  {
   "cell_type": "code",
   "execution_count": 25,
   "metadata": {},
   "outputs": [],
   "source": [
    "IP_to_Host = []\n",
    "\n",
    "for i in IP_Freq_df['IPs'][:len(IP_Freq_df['IPs'])]:\n",
    "    try:\n",
    "        IP_to_Host.append(socket.gethostbyaddr(i)[0])\n",
    "    except: \n",
    "        IP_to_Host.append(\"Unable to get Hostname\")"
   ]
  },
  {
   "cell_type": "code",
   "execution_count": 26,
   "metadata": {},
   "outputs": [
    {
     "data": {
      "text/plain": [
       "['Unable to get Hostname',\n",
       " 'Unable to get Hostname',\n",
       " 'map2.hwcdn.net',\n",
       " 'a23-54-20-119.deploy.static.akamaitechnologies.com',\n",
       " 'map2.hwcdn.net']"
      ]
     },
     "execution_count": 26,
     "metadata": {},
     "output_type": "execute_result"
    }
   ],
   "source": [
    "IP_to_Host[:5]"
   ]
  },
  {
   "cell_type": "code",
   "execution_count": 27,
   "metadata": {},
   "outputs": [],
   "source": [
    "IP_to_Host_df = pd.DataFrame({\"IP_to_Host\":IP_to_Host})"
   ]
  },
  {
   "cell_type": "markdown",
   "metadata": {},
   "source": [
    "# Concat IP Info to Data Frame"
   ]
  },
  {
   "cell_type": "code",
   "execution_count": 28,
   "metadata": {},
   "outputs": [],
   "source": [
    "Result = pd.concat([IP_Freq_df, IP_to_Host_df], axis=1).sort_values(\"Frequency\", ascending=False)"
   ]
  },
  {
   "cell_type": "code",
   "execution_count": 29,
   "metadata": {},
   "outputs": [
    {
     "data": {
      "text/html": [
       "<div>\n",
       "<style scoped>\n",
       "    .dataframe tbody tr th:only-of-type {\n",
       "        vertical-align: middle;\n",
       "    }\n",
       "\n",
       "    .dataframe tbody tr th {\n",
       "        vertical-align: top;\n",
       "    }\n",
       "\n",
       "    .dataframe thead th {\n",
       "        text-align: right;\n",
       "    }\n",
       "</style>\n",
       "<table border=\"1\" class=\"dataframe\">\n",
       "  <thead>\n",
       "    <tr style=\"text-align: right;\">\n",
       "      <th></th>\n",
       "      <th>IPs</th>\n",
       "      <th>Frequency</th>\n",
       "      <th>IP_to_Host</th>\n",
       "    </tr>\n",
       "  </thead>\n",
       "  <tbody>\n",
       "    <tr>\n",
       "      <th>0</th>\n",
       "      <td>172.17.8.174</td>\n",
       "      <td>6527</td>\n",
       "      <td>Unable to get Hostname</td>\n",
       "    </tr>\n",
       "    <tr>\n",
       "      <th>4</th>\n",
       "      <td>172.17.8.8</td>\n",
       "      <td>725</td>\n",
       "      <td>map2.hwcdn.net</td>\n",
       "    </tr>\n",
       "    <tr>\n",
       "      <th>34</th>\n",
       "      <td>205.185.216.42</td>\n",
       "      <td>671</td>\n",
       "      <td>a23-1-236-114.deploy.static.akamaitechnologies...</td>\n",
       "    </tr>\n",
       "    <tr>\n",
       "      <th>22</th>\n",
       "      <td>23.54.20.119</td>\n",
       "      <td>387</td>\n",
       "      <td>Unable to get Hostname</td>\n",
       "    </tr>\n",
       "    <tr>\n",
       "      <th>35</th>\n",
       "      <td>205.185.216.10</td>\n",
       "      <td>278</td>\n",
       "      <td>a23-1-236-125.deploy.static.akamaitechnologies...</td>\n",
       "    </tr>\n",
       "    <tr>\n",
       "      <th>24</th>\n",
       "      <td>91.211.88.122</td>\n",
       "      <td>243</td>\n",
       "      <td>Unable to get Hostname</td>\n",
       "    </tr>\n",
       "    <tr>\n",
       "      <th>20</th>\n",
       "      <td>64.4.54.18</td>\n",
       "      <td>94</td>\n",
       "      <td>Unable to get Hostname</td>\n",
       "    </tr>\n",
       "    <tr>\n",
       "      <th>8</th>\n",
       "      <td>204.79.197.200</td>\n",
       "      <td>80</td>\n",
       "      <td>Unable to get Hostname</td>\n",
       "    </tr>\n",
       "    <tr>\n",
       "      <th>23</th>\n",
       "      <td>13.107.3.128</td>\n",
       "      <td>75</td>\n",
       "      <td>Unable to get Hostname</td>\n",
       "    </tr>\n",
       "    <tr>\n",
       "      <th>14</th>\n",
       "      <td>49.51.172.56</td>\n",
       "      <td>60</td>\n",
       "      <td>Unable to get Hostname</td>\n",
       "    </tr>\n",
       "    <tr>\n",
       "      <th>30</th>\n",
       "      <td>104.77.69.193</td>\n",
       "      <td>56</td>\n",
       "      <td>Unable to get Hostname</td>\n",
       "    </tr>\n",
       "    <tr>\n",
       "      <th>15</th>\n",
       "      <td>52.114.76.34</td>\n",
       "      <td>51</td>\n",
       "      <td>Unable to get Hostname</td>\n",
       "    </tr>\n",
       "    <tr>\n",
       "      <th>28</th>\n",
       "      <td>52.159.17.76</td>\n",
       "      <td>46</td>\n",
       "      <td>Unable to get Hostname</td>\n",
       "    </tr>\n",
       "    <tr>\n",
       "      <th>37</th>\n",
       "      <td>23.1.236.92</td>\n",
       "      <td>44</td>\n",
       "      <td>Unable to get Hostname</td>\n",
       "    </tr>\n",
       "    <tr>\n",
       "      <th>5</th>\n",
       "      <td>172.17.8.1</td>\n",
       "      <td>39</td>\n",
       "      <td>Unable to get Hostname</td>\n",
       "    </tr>\n",
       "    <tr>\n",
       "      <th>19</th>\n",
       "      <td>40.91.116.226</td>\n",
       "      <td>38</td>\n",
       "      <td>Unable to get Hostname</td>\n",
       "    </tr>\n",
       "    <tr>\n",
       "      <th>7</th>\n",
       "      <td>52.114.132.22</td>\n",
       "      <td>29</td>\n",
       "      <td>a-0001.a-msedge.net</td>\n",
       "    </tr>\n",
       "    <tr>\n",
       "      <th>13</th>\n",
       "      <td>52.114.128.9</td>\n",
       "      <td>28</td>\n",
       "      <td>a23-1-236-92.deploy.static.akamaitechnologies.com</td>\n",
       "    </tr>\n",
       "    <tr>\n",
       "      <th>11</th>\n",
       "      <td>13.107.3.254</td>\n",
       "      <td>23</td>\n",
       "      <td>Unable to get Hostname</td>\n",
       "    </tr>\n",
       "    <tr>\n",
       "      <th>18</th>\n",
       "      <td>52.230.222.68</td>\n",
       "      <td>22</td>\n",
       "      <td>Unable to get Hostname</td>\n",
       "    </tr>\n",
       "    <tr>\n",
       "      <th>31</th>\n",
       "      <td>13.107.4.50</td>\n",
       "      <td>22</td>\n",
       "      <td>igmp.mcast.net</td>\n",
       "    </tr>\n",
       "    <tr>\n",
       "      <th>6</th>\n",
       "      <td>172.17.8.255</td>\n",
       "      <td>15</td>\n",
       "      <td>Unable to get Hostname</td>\n",
       "    </tr>\n",
       "    <tr>\n",
       "      <th>26</th>\n",
       "      <td>72.21.81.200</td>\n",
       "      <td>15</td>\n",
       "      <td>a23-54-20-139.deploy.static.akamaitechnologies...</td>\n",
       "    </tr>\n",
       "    <tr>\n",
       "      <th>25</th>\n",
       "      <td>204.79.197.222</td>\n",
       "      <td>14</td>\n",
       "      <td>Unable to get Hostname</td>\n",
       "    </tr>\n",
       "    <tr>\n",
       "      <th>27</th>\n",
       "      <td>204.79.197.254</td>\n",
       "      <td>13</td>\n",
       "      <td>Unable to get Hostname</td>\n",
       "    </tr>\n",
       "    <tr>\n",
       "      <th>21</th>\n",
       "      <td>52.109.2.55</td>\n",
       "      <td>13</td>\n",
       "      <td>Unable to get Hostname</td>\n",
       "    </tr>\n",
       "    <tr>\n",
       "      <th>9</th>\n",
       "      <td>23.54.20.139</td>\n",
       "      <td>12</td>\n",
       "      <td>Unable to get Hostname</td>\n",
       "    </tr>\n",
       "    <tr>\n",
       "      <th>17</th>\n",
       "      <td>13.107.246.10</td>\n",
       "      <td>12</td>\n",
       "      <td>Unable to get Hostname</td>\n",
       "    </tr>\n",
       "    <tr>\n",
       "      <th>12</th>\n",
       "      <td>40.126.5.35</td>\n",
       "      <td>11</td>\n",
       "      <td>Unable to get Hostname</td>\n",
       "    </tr>\n",
       "    <tr>\n",
       "      <th>29</th>\n",
       "      <td>40.69.216.73</td>\n",
       "      <td>11</td>\n",
       "      <td>Unable to get Hostname</td>\n",
       "    </tr>\n",
       "    <tr>\n",
       "      <th>10</th>\n",
       "      <td>13.107.4.254</td>\n",
       "      <td>10</td>\n",
       "      <td>a104-77-69-193.deploy.static.akamaitechnologie...</td>\n",
       "    </tr>\n",
       "    <tr>\n",
       "      <th>1</th>\n",
       "      <td>224.0.0.22</td>\n",
       "      <td>10</td>\n",
       "      <td>Unable to get Hostname</td>\n",
       "    </tr>\n",
       "    <tr>\n",
       "      <th>16</th>\n",
       "      <td>52.109.124.20</td>\n",
       "      <td>9</td>\n",
       "      <td>Unable to get Hostname</td>\n",
       "    </tr>\n",
       "    <tr>\n",
       "      <th>2</th>\n",
       "      <td>224.0.0.251</td>\n",
       "      <td>4</td>\n",
       "      <td>map2.hwcdn.net</td>\n",
       "    </tr>\n",
       "    <tr>\n",
       "      <th>36</th>\n",
       "      <td>23.1.236.114</td>\n",
       "      <td>4</td>\n",
       "      <td>a23-1-236-85.deploy.static.akamaitechnologies.com</td>\n",
       "    </tr>\n",
       "    <tr>\n",
       "      <th>32</th>\n",
       "      <td>23.1.236.125</td>\n",
       "      <td>2</td>\n",
       "      <td>Unable to get Hostname</td>\n",
       "    </tr>\n",
       "    <tr>\n",
       "      <th>33</th>\n",
       "      <td>23.1.236.85</td>\n",
       "      <td>2</td>\n",
       "      <td>Unable to get Hostname</td>\n",
       "    </tr>\n",
       "    <tr>\n",
       "      <th>3</th>\n",
       "      <td>224.0.0.252</td>\n",
       "      <td>2</td>\n",
       "      <td>a23-54-20-119.deploy.static.akamaitechnologies...</td>\n",
       "    </tr>\n",
       "  </tbody>\n",
       "</table>\n",
       "</div>"
      ],
      "text/plain": [
       "               IPs  Frequency  \\\n",
       "0     172.17.8.174       6527   \n",
       "4       172.17.8.8        725   \n",
       "34  205.185.216.42        671   \n",
       "22    23.54.20.119        387   \n",
       "35  205.185.216.10        278   \n",
       "24   91.211.88.122        243   \n",
       "20      64.4.54.18         94   \n",
       "8   204.79.197.200         80   \n",
       "23    13.107.3.128         75   \n",
       "14    49.51.172.56         60   \n",
       "30   104.77.69.193         56   \n",
       "15    52.114.76.34         51   \n",
       "28    52.159.17.76         46   \n",
       "37     23.1.236.92         44   \n",
       "5       172.17.8.1         39   \n",
       "19   40.91.116.226         38   \n",
       "7    52.114.132.22         29   \n",
       "13    52.114.128.9         28   \n",
       "11    13.107.3.254         23   \n",
       "18   52.230.222.68         22   \n",
       "31     13.107.4.50         22   \n",
       "6     172.17.8.255         15   \n",
       "26    72.21.81.200         15   \n",
       "25  204.79.197.222         14   \n",
       "27  204.79.197.254         13   \n",
       "21     52.109.2.55         13   \n",
       "9     23.54.20.139         12   \n",
       "17   13.107.246.10         12   \n",
       "12     40.126.5.35         11   \n",
       "29    40.69.216.73         11   \n",
       "10    13.107.4.254         10   \n",
       "1       224.0.0.22         10   \n",
       "16   52.109.124.20          9   \n",
       "2      224.0.0.251          4   \n",
       "36    23.1.236.114          4   \n",
       "32    23.1.236.125          2   \n",
       "33     23.1.236.85          2   \n",
       "3      224.0.0.252          2   \n",
       "\n",
       "                                           IP_to_Host  \n",
       "0                              Unable to get Hostname  \n",
       "4                                      map2.hwcdn.net  \n",
       "34  a23-1-236-114.deploy.static.akamaitechnologies...  \n",
       "22                             Unable to get Hostname  \n",
       "35  a23-1-236-125.deploy.static.akamaitechnologies...  \n",
       "24                             Unable to get Hostname  \n",
       "20                             Unable to get Hostname  \n",
       "8                              Unable to get Hostname  \n",
       "23                             Unable to get Hostname  \n",
       "14                             Unable to get Hostname  \n",
       "30                             Unable to get Hostname  \n",
       "15                             Unable to get Hostname  \n",
       "28                             Unable to get Hostname  \n",
       "37                             Unable to get Hostname  \n",
       "5                              Unable to get Hostname  \n",
       "19                             Unable to get Hostname  \n",
       "7                                 a-0001.a-msedge.net  \n",
       "13  a23-1-236-92.deploy.static.akamaitechnologies.com  \n",
       "11                             Unable to get Hostname  \n",
       "18                             Unable to get Hostname  \n",
       "31                                     igmp.mcast.net  \n",
       "6                              Unable to get Hostname  \n",
       "26  a23-54-20-139.deploy.static.akamaitechnologies...  \n",
       "25                             Unable to get Hostname  \n",
       "27                             Unable to get Hostname  \n",
       "21                             Unable to get Hostname  \n",
       "9                              Unable to get Hostname  \n",
       "17                             Unable to get Hostname  \n",
       "12                             Unable to get Hostname  \n",
       "29                             Unable to get Hostname  \n",
       "10  a104-77-69-193.deploy.static.akamaitechnologie...  \n",
       "1                              Unable to get Hostname  \n",
       "16                             Unable to get Hostname  \n",
       "2                                      map2.hwcdn.net  \n",
       "36  a23-1-236-85.deploy.static.akamaitechnologies.com  \n",
       "32                             Unable to get Hostname  \n",
       "33                             Unable to get Hostname  \n",
       "3   a23-54-20-119.deploy.static.akamaitechnologies...  "
      ]
     },
     "execution_count": 29,
     "metadata": {},
     "output_type": "execute_result"
    }
   ],
   "source": [
    "Result"
   ]
  },
  {
   "cell_type": "code",
   "execution_count": 30,
   "metadata": {
    "scrolled": false
   },
   "outputs": [
    {
     "data": {
      "application/vnd.plotly.v1+json": {
       "config": {
        "linkText": "Export to plot.ly",
        "plotlyServerURL": "https://plot.ly",
        "showLink": true
       },
       "data": [
        {
         "marker": {
          "color": "rgba(255, 153, 51, 0.6)",
          "line": {
           "color": "rgba(255, 153, 51, 1.0)",
           "width": 1
          }
         },
         "name": "Frequency",
         "orientation": "v",
         "text": [
          "Unable to get Hostname",
          "map2.hwcdn.net",
          "a23-1-236-114.deploy.static.akamaitechnologies.com",
          "Unable to get Hostname",
          "a23-1-236-125.deploy.static.akamaitechnologies.com",
          "Unable to get Hostname",
          "Unable to get Hostname",
          "Unable to get Hostname",
          "Unable to get Hostname",
          "Unable to get Hostname",
          "Unable to get Hostname",
          "Unable to get Hostname",
          "Unable to get Hostname",
          "Unable to get Hostname",
          "Unable to get Hostname",
          "Unable to get Hostname",
          "a-0001.a-msedge.net",
          "a23-1-236-92.deploy.static.akamaitechnologies.com",
          "Unable to get Hostname",
          "Unable to get Hostname",
          "igmp.mcast.net",
          "Unable to get Hostname",
          "a23-54-20-139.deploy.static.akamaitechnologies.com",
          "Unable to get Hostname",
          "Unable to get Hostname"
         ],
         "type": "bar",
         "uid": "bd28b4f3-9fcb-4092-a28c-f430f3b02bd8",
         "x": [
          "172.17.8.174",
          "172.17.8.8",
          "205.185.216.42",
          "23.54.20.119",
          "205.185.216.10",
          "91.211.88.122",
          "64.4.54.18",
          "204.79.197.200",
          "13.107.3.128",
          "49.51.172.56",
          "104.77.69.193",
          "52.114.76.34",
          "52.159.17.76",
          "23.1.236.92",
          "172.17.8.1",
          "40.91.116.226",
          "52.114.132.22",
          "52.114.128.9",
          "13.107.3.254",
          "52.230.222.68",
          "13.107.4.50",
          "172.17.8.255",
          "72.21.81.200",
          "204.79.197.222",
          "204.79.197.254"
         ],
         "y": [
          6527,
          725,
          671,
          387,
          278,
          243,
          94,
          80,
          75,
          60,
          56,
          51,
          46,
          44,
          39,
          38,
          29,
          28,
          23,
          22,
          22,
          15,
          15,
          14,
          13
         ]
        },
        {
         "marker": {
          "color": "rgba(55, 128, 191, 0.6)",
          "line": {
           "color": "rgba(55, 128, 191, 1.0)",
           "width": 1
          }
         },
         "name": "IP_to_Host",
         "orientation": "v",
         "text": [
          "Unable to get Hostname",
          "map2.hwcdn.net",
          "a23-1-236-114.deploy.static.akamaitechnologies.com",
          "Unable to get Hostname",
          "a23-1-236-125.deploy.static.akamaitechnologies.com",
          "Unable to get Hostname",
          "Unable to get Hostname",
          "Unable to get Hostname",
          "Unable to get Hostname",
          "Unable to get Hostname",
          "Unable to get Hostname",
          "Unable to get Hostname",
          "Unable to get Hostname",
          "Unable to get Hostname",
          "Unable to get Hostname",
          "Unable to get Hostname",
          "a-0001.a-msedge.net",
          "a23-1-236-92.deploy.static.akamaitechnologies.com",
          "Unable to get Hostname",
          "Unable to get Hostname",
          "igmp.mcast.net",
          "Unable to get Hostname",
          "a23-54-20-139.deploy.static.akamaitechnologies.com",
          "Unable to get Hostname",
          "Unable to get Hostname"
         ],
         "type": "bar",
         "uid": "2b5ef2ba-3b97-4245-9cb9-22c1689c301a",
         "x": [
          "172.17.8.174",
          "172.17.8.8",
          "205.185.216.42",
          "23.54.20.119",
          "205.185.216.10",
          "91.211.88.122",
          "64.4.54.18",
          "204.79.197.200",
          "13.107.3.128",
          "49.51.172.56",
          "104.77.69.193",
          "52.114.76.34",
          "52.159.17.76",
          "23.1.236.92",
          "172.17.8.1",
          "40.91.116.226",
          "52.114.132.22",
          "52.114.128.9",
          "13.107.3.254",
          "52.230.222.68",
          "13.107.4.50",
          "172.17.8.255",
          "72.21.81.200",
          "204.79.197.222",
          "204.79.197.254"
         ],
         "y": [
          "Unable to get Hostname",
          "map2.hwcdn.net",
          "a23-1-236-114.deploy.static.akamaitechnologies.com",
          "Unable to get Hostname",
          "a23-1-236-125.deploy.static.akamaitechnologies.com",
          "Unable to get Hostname",
          "Unable to get Hostname",
          "Unable to get Hostname",
          "Unable to get Hostname",
          "Unable to get Hostname",
          "Unable to get Hostname",
          "Unable to get Hostname",
          "Unable to get Hostname",
          "Unable to get Hostname",
          "Unable to get Hostname",
          "Unable to get Hostname",
          "a-0001.a-msedge.net",
          "a23-1-236-92.deploy.static.akamaitechnologies.com",
          "Unable to get Hostname",
          "Unable to get Hostname",
          "igmp.mcast.net",
          "Unable to get Hostname",
          "a23-54-20-139.deploy.static.akamaitechnologies.com",
          "Unable to get Hostname",
          "Unable to get Hostname"
         ]
        }
       ],
       "layout": {
        "legend": {
         "bgcolor": "#F5F6F9",
         "font": {
          "color": "#4D5663"
         }
        },
        "paper_bgcolor": "#F5F6F9",
        "plot_bgcolor": "#F5F6F9",
        "title": {
         "font": {
          "color": "#4D5663"
         },
         "text": "Destination_IPs"
        },
        "xaxis": {
         "gridcolor": "#E1E5ED",
         "showgrid": true,
         "tickfont": {
          "color": "#4D5663"
         },
         "title": {
          "font": {
           "color": "#4D5663"
          },
          "text": ""
         },
         "zerolinecolor": "#E1E5ED"
        },
        "yaxis": {
         "gridcolor": "#E1E5ED",
         "showgrid": true,
         "tickfont": {
          "color": "#4D5663"
         },
         "title": {
          "font": {
           "color": "#4D5663"
          },
          "text": ""
         },
         "zerolinecolor": "#E1E5ED"
        }
       }
      },
      "text/html": [
       "<div>\n",
       "        \n",
       "        \n",
       "            <div id=\"4e5351d2-fd85-4aff-92eb-491b2f012107\" class=\"plotly-graph-div\" style=\"height:525px; width:100%;\"></div>\n",
       "            <script type=\"text/javascript\">\n",
       "                require([\"plotly\"], function(Plotly) {\n",
       "                    window.PLOTLYENV=window.PLOTLYENV || {};\n",
       "                    window.PLOTLYENV.BASE_URL='https://plot.ly';\n",
       "                    \n",
       "                if (document.getElementById(\"4e5351d2-fd85-4aff-92eb-491b2f012107\")) {\n",
       "                    Plotly.newPlot(\n",
       "                        '4e5351d2-fd85-4aff-92eb-491b2f012107',\n",
       "                        [{\"marker\": {\"color\": \"rgba(255, 153, 51, 0.6)\", \"line\": {\"color\": \"rgba(255, 153, 51, 1.0)\", \"width\": 1}}, \"name\": \"Frequency\", \"orientation\": \"v\", \"text\": [\"Unable to get Hostname\", \"map2.hwcdn.net\", \"a23-1-236-114.deploy.static.akamaitechnologies.com\", \"Unable to get Hostname\", \"a23-1-236-125.deploy.static.akamaitechnologies.com\", \"Unable to get Hostname\", \"Unable to get Hostname\", \"Unable to get Hostname\", \"Unable to get Hostname\", \"Unable to get Hostname\", \"Unable to get Hostname\", \"Unable to get Hostname\", \"Unable to get Hostname\", \"Unable to get Hostname\", \"Unable to get Hostname\", \"Unable to get Hostname\", \"a-0001.a-msedge.net\", \"a23-1-236-92.deploy.static.akamaitechnologies.com\", \"Unable to get Hostname\", \"Unable to get Hostname\", \"igmp.mcast.net\", \"Unable to get Hostname\", \"a23-54-20-139.deploy.static.akamaitechnologies.com\", \"Unable to get Hostname\", \"Unable to get Hostname\"], \"type\": \"bar\", \"uid\": \"bd28b4f3-9fcb-4092-a28c-f430f3b02bd8\", \"x\": [\"172.17.8.174\", \"172.17.8.8\", \"205.185.216.42\", \"23.54.20.119\", \"205.185.216.10\", \"91.211.88.122\", \"64.4.54.18\", \"204.79.197.200\", \"13.107.3.128\", \"49.51.172.56\", \"104.77.69.193\", \"52.114.76.34\", \"52.159.17.76\", \"23.1.236.92\", \"172.17.8.1\", \"40.91.116.226\", \"52.114.132.22\", \"52.114.128.9\", \"13.107.3.254\", \"52.230.222.68\", \"13.107.4.50\", \"172.17.8.255\", \"72.21.81.200\", \"204.79.197.222\", \"204.79.197.254\"], \"y\": [6527, 725, 671, 387, 278, 243, 94, 80, 75, 60, 56, 51, 46, 44, 39, 38, 29, 28, 23, 22, 22, 15, 15, 14, 13]}, {\"marker\": {\"color\": \"rgba(55, 128, 191, 0.6)\", \"line\": {\"color\": \"rgba(55, 128, 191, 1.0)\", \"width\": 1}}, \"name\": \"IP_to_Host\", \"orientation\": \"v\", \"text\": [\"Unable to get Hostname\", \"map2.hwcdn.net\", \"a23-1-236-114.deploy.static.akamaitechnologies.com\", \"Unable to get Hostname\", \"a23-1-236-125.deploy.static.akamaitechnologies.com\", \"Unable to get Hostname\", \"Unable to get Hostname\", \"Unable to get Hostname\", \"Unable to get Hostname\", \"Unable to get Hostname\", \"Unable to get Hostname\", \"Unable to get Hostname\", \"Unable to get Hostname\", \"Unable to get Hostname\", \"Unable to get Hostname\", \"Unable to get Hostname\", \"a-0001.a-msedge.net\", \"a23-1-236-92.deploy.static.akamaitechnologies.com\", \"Unable to get Hostname\", \"Unable to get Hostname\", \"igmp.mcast.net\", \"Unable to get Hostname\", \"a23-54-20-139.deploy.static.akamaitechnologies.com\", \"Unable to get Hostname\", \"Unable to get Hostname\"], \"type\": \"bar\", \"uid\": \"2b5ef2ba-3b97-4245-9cb9-22c1689c301a\", \"x\": [\"172.17.8.174\", \"172.17.8.8\", \"205.185.216.42\", \"23.54.20.119\", \"205.185.216.10\", \"91.211.88.122\", \"64.4.54.18\", \"204.79.197.200\", \"13.107.3.128\", \"49.51.172.56\", \"104.77.69.193\", \"52.114.76.34\", \"52.159.17.76\", \"23.1.236.92\", \"172.17.8.1\", \"40.91.116.226\", \"52.114.132.22\", \"52.114.128.9\", \"13.107.3.254\", \"52.230.222.68\", \"13.107.4.50\", \"172.17.8.255\", \"72.21.81.200\", \"204.79.197.222\", \"204.79.197.254\"], \"y\": [\"Unable to get Hostname\", \"map2.hwcdn.net\", \"a23-1-236-114.deploy.static.akamaitechnologies.com\", \"Unable to get Hostname\", \"a23-1-236-125.deploy.static.akamaitechnologies.com\", \"Unable to get Hostname\", \"Unable to get Hostname\", \"Unable to get Hostname\", \"Unable to get Hostname\", \"Unable to get Hostname\", \"Unable to get Hostname\", \"Unable to get Hostname\", \"Unable to get Hostname\", \"Unable to get Hostname\", \"Unable to get Hostname\", \"Unable to get Hostname\", \"a-0001.a-msedge.net\", \"a23-1-236-92.deploy.static.akamaitechnologies.com\", \"Unable to get Hostname\", \"Unable to get Hostname\", \"igmp.mcast.net\", \"Unable to get Hostname\", \"a23-54-20-139.deploy.static.akamaitechnologies.com\", \"Unable to get Hostname\", \"Unable to get Hostname\"]}],\n",
       "                        {\"legend\": {\"bgcolor\": \"#F5F6F9\", \"font\": {\"color\": \"#4D5663\"}}, \"paper_bgcolor\": \"#F5F6F9\", \"plot_bgcolor\": \"#F5F6F9\", \"title\": {\"font\": {\"color\": \"#4D5663\"}, \"text\": \"Destination_IPs\"}, \"xaxis\": {\"gridcolor\": \"#E1E5ED\", \"showgrid\": true, \"tickfont\": {\"color\": \"#4D5663\"}, \"title\": {\"font\": {\"color\": \"#4D5663\"}, \"text\": \"\"}, \"zerolinecolor\": \"#E1E5ED\"}, \"yaxis\": {\"gridcolor\": \"#E1E5ED\", \"showgrid\": true, \"tickfont\": {\"color\": \"#4D5663\"}, \"title\": {\"font\": {\"color\": \"#4D5663\"}, \"text\": \"\"}, \"zerolinecolor\": \"#E1E5ED\"}},\n",
       "                        {\"showLink\": true, \"linkText\": \"Export to plot.ly\", \"plotlyServerURL\": \"https://plot.ly\", \"responsive\": true}\n",
       "                    ).then(function(){\n",
       "                            \n",
       "var gd = document.getElementById('4e5351d2-fd85-4aff-92eb-491b2f012107');\n",
       "var x = new MutationObserver(function (mutations, observer) {{\n",
       "        var display = window.getComputedStyle(gd).display;\n",
       "        if (!display || display === 'none') {{\n",
       "            console.log([gd, 'removed!']);\n",
       "            Plotly.purge(gd);\n",
       "            observer.disconnect();\n",
       "        }}\n",
       "}});\n",
       "\n",
       "// Listen for the removal of the full notebook cells\n",
       "var notebookContainer = gd.closest('#notebook-container');\n",
       "if (notebookContainer) {{\n",
       "    x.observe(notebookContainer, {childList: true});\n",
       "}}\n",
       "\n",
       "// Listen for the clearing of the current output cell\n",
       "var outputEl = gd.closest('.output');\n",
       "if (outputEl) {{\n",
       "    x.observe(outputEl, {childList: true});\n",
       "}}\n",
       "\n",
       "                        })\n",
       "                };\n",
       "                });\n",
       "            </script>\n",
       "        </div>"
      ]
     },
     "metadata": {},
     "output_type": "display_data"
    }
   ],
   "source": [
    "Result[:25].iplot( kind=\"bar\", x='IPs', title=\"Destination_IPs\",  text='IP_to_Host')"
   ]
  },
  {
   "cell_type": "code",
   "execution_count": null,
   "metadata": {},
   "outputs": [],
   "source": []
  }
 ],
 "metadata": {
  "kernelspec": {
   "display_name": "Python 3",
   "language": "python",
   "name": "python3"
  },
  "language_info": {
   "codemirror_mode": {
    "name": "ipython",
    "version": 3
   },
   "file_extension": ".py",
   "mimetype": "text/x-python",
   "name": "python",
   "nbconvert_exporter": "python",
   "pygments_lexer": "ipython3",
   "version": "3.7.3"
  }
 },
 "nbformat": 4,
 "nbformat_minor": 2
}
